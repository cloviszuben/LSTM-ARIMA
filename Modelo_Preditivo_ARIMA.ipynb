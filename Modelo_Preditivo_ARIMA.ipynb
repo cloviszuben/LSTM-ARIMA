{
  "nbformat": 4,
  "nbformat_minor": 5,
  "metadata": {
    "kernelspec": {
      "display_name": "Python 3",
      "language": "python",
      "name": "python3"
    },
    "language_info": {
      "codemirror_mode": {
        "name": "ipython",
        "version": 3
      },
      "file_extension": ".py",
      "mimetype": "text/x-python",
      "name": "python",
      "nbconvert_exporter": "python",
      "pygments_lexer": "ipython3",
      "version": "3.7.10"
    },
    "colab": {
      "name": "Modelo Preditivo - ARIMA.ipynb",
      "provenance": []
    }
  },
  "cells": [
    {
      "cell_type": "code",
      "metadata": {
        "id": "RzeWqrYodkcY",
        "outputId": "fc155c2a-145c-411c-f4f3-1970ede57182",
        "colab": {
          "base_uri": "https://localhost:8080/"
        }
      },
      "source": [
        "# Rodar somente no ambiente COLAB para obter diretório /dados ou faça o upload da pasta com os arquivos do git. \n",
        "from google.colab import drive\n",
        "drive.mount('/gdrive')\n",
        "!ln -s /gdrive/MyDrive/dados /content/dados"
      ],
      "id": "RzeWqrYodkcY",
      "execution_count": 8,
      "outputs": [
        {
          "output_type": "stream",
          "text": [
            "Drive already mounted at /gdrive; to attempt to forcibly remount, call drive.mount(\"/gdrive\", force_remount=True).\n"
          ],
          "name": "stdout"
        }
      ]
    },
    {
      "cell_type": "code",
      "metadata": {
        "id": "bbf245db"
      },
      "source": [
        "#!pip install statsmodels==0.12.2"
      ],
      "id": "bbf245db",
      "execution_count": null,
      "outputs": []
    },
    {
      "cell_type": "code",
      "metadata": {
        "id": "73b47096"
      },
      "source": [
        "from matplotlib import pyplot as plt\n",
        "from statsmodels.tsa.arima.model import ARIMA\n",
        "from statsmodels.tsa.stattools import adfuller\n",
        "from statsmodels.graphics.tsaplots import plot_acf\n",
        "from statsmodels.graphics.tsaplots import plot_pacf\n",
        "from statsmodels.tsa.stattools import adfuller\n",
        "import pandas as pd"
      ],
      "id": "73b47096",
      "execution_count": null,
      "outputs": []
    },
    {
      "cell_type": "code",
      "metadata": {
        "id": "533a25a3",
        "outputId": "9b961b1b-7e7d-4f06-8fb0-f21083b7d7b3"
      },
      "source": [
        "\n",
        "# LÊ O ARQUIVO DO RESERVATÓRIO DE SOBRADINHO\n",
        "df = pd.read_csv(\"dados/sobradinho.csv\",  header=2, delimiter='\\t', index_col=0,\n",
        "                 encoding='utf-16', usecols=[0,8], names=['ds','y'],\n",
        "                 parse_dates=['ds'], dayfirst=True, decimal=',')\n",
        "\n",
        "df.index = df.index.to_period('D')\n",
        "\n",
        "#df = df[\"2004-01-01\":\"2005-01-01\"]\n",
        "print(df.head())\n"
      ],
      "id": "533a25a3",
      "execution_count": null,
      "outputs": [
        {
          "output_type": "stream",
          "text": [
            "                 y\n",
            "ds                \n",
            "2003-03-01  387.46\n",
            "2003-03-02  387.47\n",
            "2003-03-03  387.49\n",
            "2003-03-04  387.51\n",
            "2003-03-05  387.50\n"
          ],
          "name": "stdout"
        }
      ]
    },
    {
      "cell_type": "code",
      "metadata": {
        "id": "68e67116",
        "outputId": "5c9e0e4f-7e16-4d91-e20a-82821451f565"
      },
      "source": [
        "from statsmodels.tsa.stattools import adfuller\n",
        "print(\"p-value:\", adfuller(df)[1])\n",
        "\n",
        "fig = plt.figure(figsize=(12,8))\n",
        "ax1 = fig.add_subplot(211)\n",
        "fig = plot_acf(df.diff().diff().dropna(), lags=40, ax=ax1,title=\"ACF\")\n",
        "ax2 = fig.add_subplot(212)\n",
        "fig = plot_pacf(df.diff().diff().dropna(), lags=40, ax=ax2, title=\"PACF\")\n",
        "\n",
        "plt.show()"
      ],
      "id": "68e67116",
      "execution_count": null,
      "outputs": [
        {
          "output_type": "execute_result",
          "data": {
            "text/plain": [
              "'\\nfrom statsmodels.tsa.stattools import adfuller\\nprint(\"p-value:\", adfuller(df)[1])\\n\\nfig = plt.figure(figsize=(12,8))\\nax1 = fig.add_subplot(211)\\nfig = plot_acf(df.diff().diff().dropna(), lags=40, ax=ax1,title=\"ACF\")\\nax2 = fig.add_subplot(212)\\nfig = plot_pacf(df.diff().diff().dropna(), lags=40, ax=ax2, title=\"PACF\")\\n\\nplt.show()\\n'"
            ]
          },
          "metadata": {
            "tags": []
          },
          "execution_count": 3
        }
      ]
    },
    {
      "cell_type": "code",
      "metadata": {
        "id": "097721a5",
        "outputId": "944ceb88-4628-47d2-cfe8-509bbd1fd542"
      },
      "source": [
        "\n",
        "arima = ARIMA(df, order=(8,0,1), seasonal_order=(0,0,1,12))\n",
        "\n",
        "model_fit = arima.fit()\n",
        "\n",
        "print(model_fit.summary())\n",
        "\n",
        "prediction = model_fit.get_prediction(start='2021-03-01',end='2022-03-01')\n",
        "\n",
        "predicted_values = prediction.predicted_mean\n",
        "confidence_intervals = prediction.conf_int(alpha=0.05)"
      ],
      "id": "097721a5",
      "execution_count": null,
      "outputs": [
        {
          "output_type": "stream",
          "text": [
            "C:\\Users\\Clovis\\anaconda3\\lib\\site-packages\\statsmodels\\tsa\\statespace\\sarimax.py:1009: UserWarning: Non-invertible starting seasonal moving average Using zeros as starting parameters.\n",
            "  warn('Non-invertible starting seasonal moving average'\n",
            "C:\\Users\\Clovis\\anaconda3\\lib\\site-packages\\statsmodels\\base\\model.py:568: ConvergenceWarning: Maximum Likelihood optimization failed to converge. Check mle_retvals\n",
            "  ConvergenceWarning)\n"
          ],
          "name": "stderr"
        },
        {
          "output_type": "stream",
          "text": [
            "                                    SARIMAX Results                                     \n",
            "========================================================================================\n",
            "Dep. Variable:                                y   No. Observations:                 6575\n",
            "Model:             ARIMA(8, 0, 1)x(0, 0, 1, 12)   Log Likelihood               13389.327\n",
            "Date:                          Tue, 27 Jul 2021   AIC                         -26754.654\n",
            "Time:                                  23:31:20   BIC                         -26673.162\n",
            "Sample:                              03-01-2003   HQIC                        -26726.485\n",
            "                                   - 02-28-2021                                         \n",
            "Covariance Type:                            opg                                         \n",
            "==============================================================================\n",
            "                 coef    std err          z      P>|z|      [0.025      0.975]\n",
            "------------------------------------------------------------------------------\n",
            "const        387.6634      0.603    642.925      0.000     386.482     388.845\n",
            "ar.L1          0.7511      0.151      4.965      0.000       0.455       1.048\n",
            "ar.L2          0.4265      0.141      3.035      0.002       0.151       0.702\n",
            "ar.L3          0.0685      0.044      1.554      0.120      -0.018       0.155\n",
            "ar.L4          0.0043      0.015      0.287      0.774      -0.025       0.034\n",
            "ar.L5         -0.0277      0.014     -1.942      0.052      -0.056       0.000\n",
            "ar.L6         -0.0746      0.016     -4.807      0.000      -0.105      -0.044\n",
            "ar.L7         -0.0607      0.021     -2.918      0.004      -0.101      -0.020\n",
            "ar.L8         -0.0882      0.018     -4.966      0.000      -0.123      -0.053\n",
            "ma.L1          0.1686      0.152      1.110      0.267      -0.129       0.466\n",
            "ma.S.L12      -0.0086      0.011     -0.762      0.446      -0.031       0.014\n",
            "sigma2         0.0010   1.13e-05     87.587      0.000       0.001       0.001\n",
            "===================================================================================\n",
            "Ljung-Box (L1) (Q):                   0.05   Jarque-Bera (JB):              3217.34\n",
            "Prob(Q):                              0.82   Prob(JB):                         0.00\n",
            "Heteroskedasticity (H):               0.46   Skew:                             0.09\n",
            "Prob(H) (two-sided):                  0.00   Kurtosis:                         6.42\n",
            "===================================================================================\n",
            "\n",
            "Warnings:\n",
            "[1] Covariance matrix calculated using the outer product of gradients (complex-step).\n"
          ],
          "name": "stdout"
        }
      ]
    },
    {
      "cell_type": "code",
      "metadata": {
        "id": "3665d26a",
        "outputId": "ec15783e-071f-4869-8cd7-c377dda8aaaa"
      },
      "source": [
        "df.plot()\n",
        "predicted_values.plot()\n",
        "plt.xlabel(\"Data\")\n",
        "plt.ylabel(\"Profundidade\")\n",
        "plt.title(\"Previsão da Profundidade do Reservatório de Sobradinho\")\n",
        "plt.legend((\"passado\", \"previsão\"), loc=\"upper left\")\n",
        "plt.fill_between(confidence_intervals.index.values,\n",
        "                 confidence_intervals[\"lower y\"][0:].values,\n",
        "                 confidence_intervals[\"upper y\"][0:].values, color=\"red\", alpha=0.25)\n",
        "plt.show()"
      ],
      "id": "3665d26a",
      "execution_count": null,
      "outputs": [
        {
          "output_type": "display_data",
          "data": {
            "image/png": "[encoded data removed]",
            "text/plain": [
              "<Figure size 432x288 with 1 Axes>"
            ]
          },
          "metadata": {
            "tags": [],
            "needs_background": "light"
          }
        }
      ]
    }
  ]
}