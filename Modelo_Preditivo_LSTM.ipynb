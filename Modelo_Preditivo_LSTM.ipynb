{
  "nbformat": 4,
  "nbformat_minor": 5,
  "metadata": {
    "kernelspec": {
      "display_name": "Python 3",
      "language": "python",
      "name": "python3"
    },
    "language_info": {
      "codemirror_mode": {
        "name": "ipython",
        "version": 3
      },
      "file_extension": ".py",
      "mimetype": "text/x-python",
      "name": "python",
      "nbconvert_exporter": "python",
      "pygments_lexer": "ipython3",
      "version": "3.7.10"
    },
    "colab": {
      "name": "Modelo Preditivo - LSTM.ipynb",
      "provenance": []
    }
  },
  "cells": [
    {
      "cell_type": "code",
      "metadata": {
        "id": "8BisRe4UbXg-",
        "outputId": "45321877-3a64-48b6-ecef-6187b7e9b7bd",
        "colab": {
          "base_uri": "https://localhost:8080/"
        }
      },
      "source": [
        "# Rodar somente no ambiente COLAB para obter diretório /dados ou faça o upload da pasta com os arquivos do git. \n",
        "from google.colab import drive\n",
        "drive.mount('/gdrive')\n",
        "!ln -s /gdrive/MyDrive/dados /content/dados"
      ],
      "id": "8BisRe4UbXg-",
      "execution_count": 4,
      "outputs": [
        {
          "output_type": "stream",
          "text": [
            "Mounted at /gdrive\n",
            "ln: failed to create symbolic link '/content/dados/dados': File exists\n"
          ],
          "name": "stdout"
        }
      ]
    },
    {
      "cell_type": "code",
      "metadata": {
        "id": "1a5e1d74",
        "outputId": "7465a6d9-9b70-4c62-d8cf-47cbfc8a5684",
        "colab": {
          "base_uri": "https://localhost:8080/"
        }
      },
      "source": [
        "import numpy\n",
        "import pandas\n",
        "import sys\n",
        "import matplotlib.pyplot as plt\n",
        "import math\n",
        "import tensorflow as tf\n",
        "\n",
        "from tensorflow import keras\n",
        "from tensorflow.keras.models import Sequential\n",
        "from tensorflow.keras.layers import Dense\n",
        "from tensorflow.keras.layers import LSTM\n",
        "from sklearn.preprocessing import MinMaxScaler\n",
        "from sklearn.metrics import mean_squared_error\n",
        "\n",
        "print(tf.__version__)"
      ],
      "id": "1a5e1d74",
      "execution_count": 5,
      "outputs": [
        {
          "output_type": "stream",
          "text": [
            "2.5.0\n"
          ],
          "name": "stdout"
        }
      ]
    },
    {
      "cell_type": "code",
      "metadata": {
        "id": "fd78253d"
      },
      "source": [
        "# PARÂMETROS DE AJUSTE DE EXECUÇÃO\n",
        "NUMERO_NEURONIOS = 20\n",
        "LOOK_BACK = 10\n",
        "EPOCHS = 100\n",
        "\n",
        "# ACERTA O RANDOM SEED\n",
        "\n",
        "numpy.random.seed(7)"
      ],
      "id": "fd78253d",
      "execution_count": 6,
      "outputs": []
    },
    {
      "cell_type": "code",
      "metadata": {
        "id": "7198f1cf",
        "outputId": "c346ddef-69df-4c38-e754-8afe66083de0",
        "colab": {
          "base_uri": "https://localhost:8080/"
        }
      },
      "source": [
        "# LÊ O ARQUIVO DO RESERVATÓRIO DE SOBRADINHO\n",
        "\n",
        "dataframe = pandas.read_csv(\"dados/sobradinho.csv\",  header=2, delimiter='\\t',\n",
        "                             encoding='utf-16', usecols=[0,8], names=['ds','y'],\n",
        "                             parse_dates=['ds'], dayfirst=True, decimal=',')\n",
        "\n",
        "# CRIA UM NOVO DATAFRAME A PARTIR DA LEITURA DO ARQUIVO\n",
        "\n",
        "data = dataframe.sort_index(ascending=True, axis=0)\n",
        "new_data = pandas.DataFrame(index=range(0, len(dataframe)), columns=['Date', 'Profundidade'])\n",
        "for i in range(0, len(data)):\n",
        "\tnew_data['Date'][i] = data['ds'][i]\n",
        "\tnew_data['Profundidade'][i] = data['y'][i]\n",
        "\n",
        "# COLOCA A DATA COMO ÍNDICE\n",
        "\n",
        "new_data.index = new_data.Date\n",
        "new_data.drop('Date', axis=1, inplace=True)\n",
        "\n",
        "# ATIVAR LINHAS ABAIXO PARA AGRUPAR POR MÊS \"M\" OU SEMANA \"1W\"\n",
        "\n",
        "new_data[\"Profundidade\"] = pandas.to_numeric(new_data[\"Profundidade\"], downcast=\"float\")\n",
        "new_data = new_data.groupby(pandas.Grouper(freq='M')).mean()\n",
        "\n",
        "print('DATAFRAME.SHAPE ==>', new_data.shape)\n",
        "print(new_data.head(12))\n"
      ],
      "id": "7198f1cf",
      "execution_count": 7,
      "outputs": [
        {
          "output_type": "stream",
          "text": [
            "DATAFRAME.SHAPE ==> (216, 1)\n",
            "            Profundidade\n",
            "Date                    \n",
            "2003-03-31    387.610962\n",
            "2003-04-30    388.247681\n",
            "2003-05-31    387.992889\n",
            "2003-06-30    387.450317\n",
            "2003-07-31    386.905792\n",
            "2003-08-31    386.102264\n",
            "2003-09-30    385.257996\n",
            "2003-10-31    384.170959\n",
            "2003-11-30    383.285339\n",
            "2003-12-31    382.974182\n",
            "2004-01-31    383.913239\n",
            "2004-02-29    387.140350\n"
          ],
          "name": "stdout"
        }
      ]
    },
    {
      "cell_type": "code",
      "metadata": {
        "id": "498c6560",
        "outputId": "e14f2f1c-badb-46b4-c9ac-c610b22007f0",
        "colab": {
          "base_uri": "https://localhost:8080/"
        }
      },
      "source": [
        "# CRIANDO O GRUPO DE TREINO E TESTE - 2/3 PARA TREINO\n",
        "\n",
        "dataset = new_data.values\n",
        "train_size = int(len(dataset) * 0.67)\n",
        "test_size = len(dataset) - train_size\n",
        "train, test = dataset[0:train_size,:], dataset[train_size:len(dataset),:]\n",
        "print(len(train), len(test))"
      ],
      "id": "498c6560",
      "execution_count": 8,
      "outputs": [
        {
          "output_type": "stream",
          "text": [
            "144 72\n"
          ],
          "name": "stdout"
        }
      ]
    },
    {
      "cell_type": "code",
      "metadata": {
        "id": "dae35408"
      },
      "source": [
        "# NORMALIZA DADOS\n",
        "\n",
        "scaler = MinMaxScaler(feature_range=(0, 1))\n",
        "scaled_dataset = scaler.fit_transform(dataset)\n",
        "\n",
        "# PREPARA OS PARÂMETROS PARA O COMANDO FIT() - TRAIN-X E TRAIN-Y COM A JANELA DE LOOK-BACK\n",
        "\n",
        "look_back = LOOK_BACK\n",
        "\n",
        "trainX, trainY = [], []\n",
        "for i in range(look_back,len(train)):\n",
        "    trainX.append(scaled_dataset[i-look_back:i,0])\n",
        "    trainY.append(scaled_dataset[i,0])\n",
        "\n",
        "trainX, trainY = numpy.array(trainX), numpy.array(trainY)\n"
      ],
      "id": "dae35408",
      "execution_count": 9,
      "outputs": []
    },
    {
      "cell_type": "code",
      "metadata": {
        "id": "ed3eaed3",
        "outputId": "b295bc1b-68f9-4f90-d199-52bfbee47d50",
        "colab": {
          "base_uri": "https://localhost:8080/"
        }
      },
      "source": [
        "# RESHAPE DE TRAIN-X\n",
        "# TRANSFORMA A MATRIZ 2-D DE [ N LINHAS x LOOKBACK COLUNAS ]\n",
        "# EM UMA MATRIZ 3-D: [ N LINHAS x [ LOOKBACK LINHAS x 1 COLUNA ]]\n",
        "\n",
        "trainX = numpy.reshape(trainX, (trainX.shape[0], trainX.shape[1], 1))\n",
        "\n",
        "# CRIA O MODELO LSTM E CHAMA O FIT PARA TREINAR\n",
        "# O INPUT_SHAPE =( LOOKBACK LINHAS x 1 DIMENSION )  <== ( TIMESTEPS x DATA_DIM )\n",
        "\n",
        "model = Sequential()\n",
        "model.add(LSTM(NUMERO_NEURONIOS, input_shape=(trainX.shape[1], 1)))\n",
        "model.add(Dense(1))\n",
        "model.compile(loss='mean_squared_error', optimizer='adam')\n",
        "model.fit(trainX, trainY, epochs=EPOCHS, batch_size=1, verbose=2)\n"
      ],
      "id": "ed3eaed3",
      "execution_count": 10,
      "outputs": [
        {
          "output_type": "stream",
          "text": [
            "Epoch 1/100\n",
            "134/134 - 2s - loss: 0.0887\n",
            "Epoch 2/100\n",
            "134/134 - 0s - loss: 0.0417\n",
            "Epoch 3/100\n",
            "134/134 - 0s - loss: 0.0393\n",
            "Epoch 4/100\n",
            "134/134 - 0s - loss: 0.0351\n",
            "Epoch 5/100\n",
            "134/134 - 0s - loss: 0.0322\n",
            "Epoch 6/100\n",
            "134/134 - 0s - loss: 0.0301\n",
            "Epoch 7/100\n",
            "134/134 - 0s - loss: 0.0271\n",
            "Epoch 8/100\n",
            "134/134 - 0s - loss: 0.0236\n",
            "Epoch 9/100\n",
            "134/134 - 0s - loss: 0.0208\n",
            "Epoch 10/100\n",
            "134/134 - 0s - loss: 0.0177\n",
            "Epoch 11/100\n",
            "134/134 - 0s - loss: 0.0134\n",
            "Epoch 12/100\n",
            "134/134 - 0s - loss: 0.0100\n",
            "Epoch 13/100\n",
            "134/134 - 0s - loss: 0.0084\n",
            "Epoch 14/100\n",
            "134/134 - 0s - loss: 0.0073\n",
            "Epoch 15/100\n",
            "134/134 - 0s - loss: 0.0059\n",
            "Epoch 16/100\n",
            "134/134 - 0s - loss: 0.0061\n",
            "Epoch 17/100\n",
            "134/134 - 0s - loss: 0.0051\n",
            "Epoch 18/100\n",
            "134/134 - 0s - loss: 0.0053\n",
            "Epoch 19/100\n",
            "134/134 - 0s - loss: 0.0051\n",
            "Epoch 20/100\n",
            "134/134 - 0s - loss: 0.0049\n",
            "Epoch 21/100\n",
            "134/134 - 0s - loss: 0.0052\n",
            "Epoch 22/100\n",
            "134/134 - 0s - loss: 0.0044\n",
            "Epoch 23/100\n",
            "134/134 - 0s - loss: 0.0041\n",
            "Epoch 24/100\n",
            "134/134 - 0s - loss: 0.0048\n",
            "Epoch 25/100\n",
            "134/134 - 0s - loss: 0.0045\n",
            "Epoch 26/100\n",
            "134/134 - 0s - loss: 0.0040\n",
            "Epoch 27/100\n",
            "134/134 - 0s - loss: 0.0042\n",
            "Epoch 28/100\n",
            "134/134 - 0s - loss: 0.0043\n",
            "Epoch 29/100\n",
            "134/134 - 0s - loss: 0.0040\n",
            "Epoch 30/100\n",
            "134/134 - 0s - loss: 0.0045\n",
            "Epoch 31/100\n",
            "134/134 - 0s - loss: 0.0040\n",
            "Epoch 32/100\n",
            "134/134 - 0s - loss: 0.0038\n",
            "Epoch 33/100\n",
            "134/134 - 0s - loss: 0.0042\n",
            "Epoch 34/100\n",
            "134/134 - 0s - loss: 0.0036\n",
            "Epoch 35/100\n",
            "134/134 - 0s - loss: 0.0035\n",
            "Epoch 36/100\n",
            "134/134 - 0s - loss: 0.0038\n",
            "Epoch 37/100\n",
            "134/134 - 0s - loss: 0.0035\n",
            "Epoch 38/100\n",
            "134/134 - 0s - loss: 0.0034\n",
            "Epoch 39/100\n",
            "134/134 - 0s - loss: 0.0038\n",
            "Epoch 40/100\n",
            "134/134 - 0s - loss: 0.0033\n",
            "Epoch 41/100\n",
            "134/134 - 0s - loss: 0.0033\n",
            "Epoch 42/100\n",
            "134/134 - 0s - loss: 0.0032\n",
            "Epoch 43/100\n",
            "134/134 - 0s - loss: 0.0031\n",
            "Epoch 44/100\n",
            "134/134 - 0s - loss: 0.0034\n",
            "Epoch 45/100\n",
            "134/134 - 0s - loss: 0.0034\n",
            "Epoch 46/100\n",
            "134/134 - 0s - loss: 0.0033\n",
            "Epoch 47/100\n",
            "134/134 - 0s - loss: 0.0030\n",
            "Epoch 48/100\n",
            "134/134 - 0s - loss: 0.0033\n",
            "Epoch 49/100\n",
            "134/134 - 0s - loss: 0.0031\n",
            "Epoch 50/100\n",
            "134/134 - 0s - loss: 0.0030\n",
            "Epoch 51/100\n",
            "134/134 - 0s - loss: 0.0033\n",
            "Epoch 52/100\n",
            "134/134 - 0s - loss: 0.0029\n",
            "Epoch 53/100\n",
            "134/134 - 0s - loss: 0.0031\n",
            "Epoch 54/100\n",
            "134/134 - 0s - loss: 0.0031\n",
            "Epoch 55/100\n",
            "134/134 - 0s - loss: 0.0029\n",
            "Epoch 56/100\n",
            "134/134 - 0s - loss: 0.0029\n",
            "Epoch 57/100\n",
            "134/134 - 0s - loss: 0.0027\n",
            "Epoch 58/100\n",
            "134/134 - 0s - loss: 0.0027\n",
            "Epoch 59/100\n",
            "134/134 - 0s - loss: 0.0027\n",
            "Epoch 60/100\n",
            "134/134 - 0s - loss: 0.0032\n",
            "Epoch 61/100\n",
            "134/134 - 0s - loss: 0.0029\n",
            "Epoch 62/100\n",
            "134/134 - 0s - loss: 0.0029\n",
            "Epoch 63/100\n",
            "134/134 - 0s - loss: 0.0028\n",
            "Epoch 64/100\n",
            "134/134 - 0s - loss: 0.0027\n",
            "Epoch 65/100\n",
            "134/134 - 0s - loss: 0.0029\n",
            "Epoch 66/100\n",
            "134/134 - 0s - loss: 0.0027\n",
            "Epoch 67/100\n",
            "134/134 - 0s - loss: 0.0027\n",
            "Epoch 68/100\n",
            "134/134 - 0s - loss: 0.0026\n",
            "Epoch 69/100\n",
            "134/134 - 0s - loss: 0.0025\n",
            "Epoch 70/100\n",
            "134/134 - 0s - loss: 0.0026\n",
            "Epoch 71/100\n",
            "134/134 - 0s - loss: 0.0026\n",
            "Epoch 72/100\n",
            "134/134 - 0s - loss: 0.0026\n",
            "Epoch 73/100\n",
            "134/134 - 0s - loss: 0.0026\n",
            "Epoch 74/100\n",
            "134/134 - 0s - loss: 0.0026\n",
            "Epoch 75/100\n",
            "134/134 - 0s - loss: 0.0025\n",
            "Epoch 76/100\n",
            "134/134 - 0s - loss: 0.0025\n",
            "Epoch 77/100\n",
            "134/134 - 0s - loss: 0.0026\n",
            "Epoch 78/100\n",
            "134/134 - 0s - loss: 0.0027\n",
            "Epoch 79/100\n",
            "134/134 - 0s - loss: 0.0027\n",
            "Epoch 80/100\n",
            "134/134 - 0s - loss: 0.0024\n",
            "Epoch 81/100\n",
            "134/134 - 0s - loss: 0.0026\n",
            "Epoch 82/100\n",
            "134/134 - 0s - loss: 0.0027\n",
            "Epoch 83/100\n",
            "134/134 - 0s - loss: 0.0024\n",
            "Epoch 84/100\n",
            "134/134 - 0s - loss: 0.0025\n",
            "Epoch 85/100\n",
            "134/134 - 0s - loss: 0.0025\n",
            "Epoch 86/100\n",
            "134/134 - 0s - loss: 0.0025\n",
            "Epoch 87/100\n",
            "134/134 - 0s - loss: 0.0025\n",
            "Epoch 88/100\n",
            "134/134 - 0s - loss: 0.0024\n",
            "Epoch 89/100\n",
            "134/134 - 0s - loss: 0.0024\n",
            "Epoch 90/100\n",
            "134/134 - 0s - loss: 0.0028\n",
            "Epoch 91/100\n",
            "134/134 - 0s - loss: 0.0028\n",
            "Epoch 92/100\n",
            "134/134 - 0s - loss: 0.0025\n",
            "Epoch 93/100\n",
            "134/134 - 0s - loss: 0.0025\n",
            "Epoch 94/100\n",
            "134/134 - 1s - loss: 0.0024\n",
            "Epoch 95/100\n",
            "134/134 - 0s - loss: 0.0024\n",
            "Epoch 96/100\n",
            "134/134 - 0s - loss: 0.0024\n",
            "Epoch 97/100\n",
            "134/134 - 0s - loss: 0.0025\n",
            "Epoch 98/100\n",
            "134/134 - 0s - loss: 0.0025\n",
            "Epoch 99/100\n",
            "134/134 - 0s - loss: 0.0025\n",
            "Epoch 100/100\n",
            "134/134 - 0s - loss: 0.0025\n"
          ],
          "name": "stdout"
        },
        {
          "output_type": "execute_result",
          "data": {
            "text/plain": [
              "<tensorflow.python.keras.callbacks.History at 0x7f20a474ae90>"
            ]
          },
          "metadata": {
            "tags": []
          },
          "execution_count": 10
        }
      ]
    },
    {
      "cell_type": "code",
      "metadata": {
        "id": "a3c404a9"
      },
      "source": [
        "# FAZ A PREVISÃO NO TESTE\n",
        "\n",
        "inputs = new_data[len(new_data) - len(test) - look_back:].values\n",
        "inputs = inputs.reshape(-1, 1)\n",
        "inputs  = scaler.transform(inputs)\n",
        "\n",
        "testX, testY = [], []\n",
        "for i in range(look_back, inputs.shape[0]):\n",
        "    testX.append(inputs[i-look_back:i, 0])\n",
        "    testY.append(scaled_dataset[i, 0])\n",
        "testX, testY = numpy.array(testX), numpy.array(testY)\n",
        "\n",
        "testX = numpy.reshape(testX, (testX.shape[0], testX.shape[1], 1))\n",
        "\n",
        "testPredict = model.predict(testX)\n"
      ],
      "id": "a3c404a9",
      "execution_count": 11,
      "outputs": []
    },
    {
      "cell_type": "code",
      "metadata": {
        "id": "34c32a88",
        "outputId": "47cf0e55-d690-4ef0-d328-d50a38a77ffa",
        "colab": {
          "base_uri": "https://localhost:8080/",
          "height": 334
        }
      },
      "source": [
        "# RECUPERA OS VALORES ORIGINAIS DO SCALER\n",
        "\n",
        "testPredict = scaler.inverse_transform(testPredict)\n",
        "testY = scaler.inverse_transform([testY])\n",
        "\n",
        "# IMPRIME O ERRO POR MÉDIA QUADRÁTICA, COMPARANDO OS VALORES PREVISTOS COM OS REAIS.\n",
        "\n",
        "testScore = math.sqrt(mean_squared_error(testY[0], testPredict[:,0]))\n",
        "print('Test Score: %.2f RMSE' % (testScore))\n",
        "\n",
        "\n",
        "# IMPRIME O GRÁFICO COM A PREVISÃO\n",
        "\n",
        "train = new_data[:train_size]\n",
        "test = new_data[train_size:].copy()\n",
        "\n",
        "test['Predictions'] = testPredict\n",
        "#test.loc[:,'Predictions'] = testPredict   #Adiciona a coluna\n",
        "\n",
        "plt.ylabel('Profundidade')\n",
        "plt.xlabel('Data')\n",
        "\n",
        "plt.plot(train['Profundidade'], label='Treino')\n",
        "plt.plot(test['Profundidade'], label = 'Observado')\n",
        "plt.plot(test['Predictions'], label = 'Previsão')\n",
        "\n",
        "plt.legend(bbox_to_anchor=(0., 1.02, 1., .102), loc='lower left', ncol=2, mode=\"expand\", borderaxespad=0.)\n",
        "plt.show()\n"
      ],
      "id": "34c32a88",
      "execution_count": 12,
      "outputs": [
        {
          "output_type": "stream",
          "text": [
            "Test Score: 5.05 RMSE\n"
          ],
          "name": "stdout"
        },
        {
          "output_type": "display_data",
          "data": {
            "image/png": "[encoded data removed]",
            "text/plain": [
              "<Figure size 432x288 with 1 Axes>"
            ]
          },
          "metadata": {
            "tags": [],
            "needs_background": "light"
          }
        }
      ]
    },
    {
      "cell_type": "code",
      "metadata": {
        "id": "e6b3800a"
      },
      "source": [
        ""
      ],
      "id": "e6b3800a",
      "execution_count": null,
      "outputs": []
    }
  ]
}